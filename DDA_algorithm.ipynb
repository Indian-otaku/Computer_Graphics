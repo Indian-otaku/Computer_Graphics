{
  "nbformat": 4,
  "nbformat_minor": 0,
  "metadata": {
    "colab": {
      "provenance": [],
      "authorship_tag": "ABX9TyMwWCgPkdmNKMD5B/4SgRxu",
      "include_colab_link": true
    },
    "kernelspec": {
      "name": "python3",
      "display_name": "Python 3"
    },
    "language_info": {
      "name": "python"
    }
  },
  "cells": [
    {
      "cell_type": "markdown",
      "metadata": {
        "id": "view-in-github",
        "colab_type": "text"
      },
      "source": [
        "<a href=\"https://colab.research.google.com/github/Indian-otaku/Computer_Graphics/blob/main/DDA_algorithm.ipynb\" target=\"_parent\"><img src=\"https://colab.research.google.com/assets/colab-badge.svg\" alt=\"Open In Colab\"/></a>"
      ]
    },
    {
      "cell_type": "code",
      "execution_count": 22,
      "metadata": {
        "id": "kOrRruYXlsaH"
      },
      "outputs": [],
      "source": [
        "import numpy as np\n",
        "import matplotlib.pyplot as plt\n",
        "from matplotlib import colors"
      ]
    },
    {
      "cell_type": "code",
      "source": [
        "image = np.zeros((15,15))\n",
        "\n",
        "plt.imshow(X=image,\n",
        "           cmap=colors.ListedColormap(['white','black']),\n",
        "           origin='upper')"
      ],
      "metadata": {
        "colab": {
          "base_uri": "https://localhost:8080/",
          "height": 282
        },
        "id": "FFyDeQIVr4NW",
        "outputId": "bf6ef6e8-b853-4641-a947-4251c890d458"
      },
      "execution_count": 23,
      "outputs": [
        {
          "output_type": "execute_result",
          "data": {
            "text/plain": [
              "<matplotlib.image.AxesImage at 0x7f0662d8dc70>"
            ]
          },
          "metadata": {},
          "execution_count": 23
        },
        {
          "output_type": "display_data",
          "data": {
            "text/plain": [
              "<Figure size 432x288 with 1 Axes>"
            ],
            "image/png": "[encoded data removed]"
          },
          "metadata": {
            "needs_background": "light"
          }
        }
      ]
    },
    {
      "cell_type": "code",
      "source": [
        "def plot_line_dda(image=image.copy().T, start=None, end=None):\n",
        "    dx = end[0] - start[0]\n",
        "    dy = end[1] - start[1]\n",
        "    coord_list_x = []\n",
        "    coord_list_y = []\n",
        "\n",
        "    try:\n",
        "        m = dy/dx\n",
        "        print(f\"Slope of line is {m}\")\n",
        "    except:\n",
        "        print(\"Slope of line is infinity\")\n",
        " \n",
        "    if (np.abs(dx) >= np.abs(dy)):\n",
        "        steps = np.abs(dx)\n",
        "    else:\n",
        "        steps = np.abs(dy)\n",
        "\n",
        "    xinc = dx/steps\n",
        "    yinc = dy/steps\n",
        "\n",
        "    print(f\"x increment = {xinc} and y increment = {yinc}\")\n",
        "\n",
        "    x = start[0]\n",
        "    y = start[1]\n",
        "\n",
        "    for _ in range(steps):\n",
        "\n",
        "        print(np.int32(np.round(x)), np.int32(np.round(y)))\n",
        "\n",
        "        coord_list_x.append(np.int32(np.round(x)))\n",
        "        coord_list_y.append(np.int32(np.round(y)))\n",
        "\n",
        "        image[np.int32(np.round(x)), np.int32(np.round(y))] = 1\n",
        "\n",
        "        x += xinc\n",
        "        y += yinc\n",
        "\n",
        "    return image, coord_list_x, coord_list_y"
      ],
      "metadata": {
        "id": "e1oHYQKKt-mG"
      },
      "execution_count": 24,
      "outputs": []
    },
    {
      "cell_type": "code",
      "source": [
        "image1, x, y = plot_line_dda(image=image.copy(),\n",
        "                   start=(2,-5),\n",
        "                   end=(6,-12))\n",
        "plt.imshow(X=image1, \n",
        "           cmap=colors.ListedColormap(['white','black']), \n",
        "           origin='upper')\n"
      ],
      "metadata": {
        "colab": {
          "base_uri": "https://localhost:8080/",
          "height": 439
        },
        "id": "o4sB_ql2x3dk",
        "outputId": "77f596cf-f85f-44e3-dd5a-eda805959713"
      },
      "execution_count": 25,
      "outputs": [
        {
          "output_type": "stream",
          "name": "stdout",
          "text": [
            "Slope of line is -1.75\n",
            "x increment = 0.5714285714285714 and y increment = -1.0\n",
            "2 -5\n",
            "3 -6\n",
            "3 -7\n",
            "4 -8\n",
            "4 -9\n",
            "5 -10\n",
            "5 -11\n"
          ]
        },
        {
          "output_type": "execute_result",
          "data": {
            "text/plain": [
              "<matplotlib.image.AxesImage at 0x7f06604aed30>"
            ]
          },
          "metadata": {},
          "execution_count": 25
        },
        {
          "output_type": "display_data",
          "data": {
            "text/plain": [
              "<Figure size 432x288 with 1 Axes>"
            ],
            "image/png": "[encoded data removed]"
          },
          "metadata": {
            "needs_background": "light"
          }
        }
      ]
    },
    {
      "cell_type": "code",
      "source": [
        "plt.scatter(x,y)"
      ],
      "metadata": {
        "id": "RtRIQ8jxyIi_",
        "colab": {
          "base_uri": "https://localhost:8080/",
          "height": 282
        },
        "outputId": "ce63c78e-9769-497f-c732-010b31e7e2b3"
      },
      "execution_count": 26,
      "outputs": [
        {
          "output_type": "execute_result",
          "data": {
            "text/plain": [
              "<matplotlib.collections.PathCollection at 0x7f066040daf0>"
            ]
          },
          "metadata": {},
          "execution_count": 26
        },
        {
          "output_type": "display_data",
          "data": {
            "text/plain": [
              "<Figure size 432x288 with 1 Axes>"
            ],
            "image/png": "[encoded data removed]"
          },
          "metadata": {
            "needs_background": "light"
          }
        }
      ]
    }
  ]
}