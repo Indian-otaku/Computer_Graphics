{
  "nbformat": 4,
  "nbformat_minor": 0,
  "metadata": {
    "colab": {
      "provenance": [],
      "authorship_tag": "ABX9TyPEwOMNBeE62XMcqoxGIovo",
      "include_colab_link": true
    },
    "kernelspec": {
      "name": "python3",
      "display_name": "Python 3"
    },
    "language_info": {
      "name": "python"
    }
  },
  "cells": [
    {
      "cell_type": "markdown",
      "metadata": {
        "id": "view-in-github",
        "colab_type": "text"
      },
      "source": [
        "<a href=\"https://colab.research.google.com/github/Indian-otaku/Computer_Graphics/blob/main/DDA_algorithm.ipynb\" target=\"_parent\"><img src=\"https://colab.research.google.com/assets/colab-badge.svg\" alt=\"Open In Colab\"/></a>"
      ]
    },
    {
      "cell_type": "code",
      "execution_count": 67,
      "metadata": {
        "id": "kOrRruYXlsaH"
      },
      "outputs": [],
      "source": [
        "import numpy as np\n",
        "import matplotlib.pyplot as plt\n",
        "from matplotlib import colors"
      ]
    },
    {
      "cell_type": "code",
      "source": [
        "image = np.zeros((15,15))\n",
        "\n",
        "plt.imshow(X=image,\n",
        "           cmap=colors.ListedColormap(['white','black']),\n",
        "           origin='upper')"
      ],
      "metadata": {
        "colab": {
          "base_uri": "https://localhost:8080/",
          "height": 279
        },
        "id": "FFyDeQIVr4NW",
        "outputId": "73291ddd-9830-4511-b2d8-39d9c49d0b91"
      },
      "execution_count": 68,
      "outputs": [
        {
          "output_type": "execute_result",
          "data": {
            "text/plain": [
              "<matplotlib.image.AxesImage at 0x7f065ee38e80>"
            ]
          },
          "metadata": {},
          "execution_count": 68
        },
        {
          "output_type": "display_data",
          "data": {
            "text/plain": [
              "<Figure size 432x288 with 1 Axes>"
            ],
            "image/png": "[encoded data removed]"
          },
          "metadata": {}
        }
      ]
    },
    {
      "cell_type": "code",
      "source": [
        "def plot_line_dda(image=image.copy().T, start=None, end=None):\n",
        "    dx = end[0] - start[0]\n",
        "    dy = end[1] - start[1]\n",
        "    coord_list_x = []\n",
        "    coord_list_y = []\n",
        "\n",
        "    try:\n",
        "        m = dy/dx\n",
        "        print(f\"Slope of line is {m}\")\n",
        "    except:\n",
        "        print(\"Slope of line is infinity\")\n",
        " \n",
        "    if (np.abs(dx) >= np.abs(dy)):\n",
        "        steps = np.abs(dx)\n",
        "    else:\n",
        "        steps = np.abs(dy)\n",
        "\n",
        "    xinc = dx/steps\n",
        "    yinc = dy/steps\n",
        "\n",
        "    print(f\"x increment = {xinc} and y increment = {yinc}\")\n",
        "\n",
        "    x = start[0]\n",
        "    y = start[1]\n",
        "\n",
        "    for _ in range(steps):\n",
        "\n",
        "        print(np.int32(np.round(x)), np.int32(np.round(y)))\n",
        "\n",
        "        coord_list_x.append(np.int32(np.round(x)))\n",
        "        coord_list_y.append(np.int32(np.round(y)))\n",
        "\n",
        "        image[np.int32(np.round(x)), np.int32(np.round(y))] = 1\n",
        "\n",
        "        x += xinc\n",
        "        y += yinc\n",
        "\n",
        "    return image, coord_list_x, coord_list_y"
      ],
      "metadata": {
        "id": "e1oHYQKKt-mG"
      },
      "execution_count": 69,
      "outputs": []
    },
    {
      "cell_type": "code",
      "source": [
        "image1, x, y = plot_line_dda(image=image.copy(),\n",
        "                   start=(2,-5),\n",
        "                   end=(6,-12))\n",
        "plt.imshow(X=image1, \n",
        "           cmap=colors.ListedColormap(['white','black']), \n",
        "           origin='upper')\n"
      ],
      "metadata": {
        "colab": {
          "base_uri": "https://localhost:8080/",
          "height": 436
        },
        "id": "o4sB_ql2x3dk",
        "outputId": "5768d390-c468-4b9a-dfa5-8b944224f296"
      },
      "execution_count": 70,
      "outputs": [
        {
          "output_type": "stream",
          "name": "stdout",
          "text": [
            "Slope of line is -1.75\n",
            "x increment = 0.5714285714285714 and y increment = -1.0\n",
            "2 -5\n",
            "3 -6\n",
            "3 -7\n",
            "4 -8\n",
            "4 -9\n",
            "5 -10\n",
            "5 -11\n"
          ]
        },
        {
          "output_type": "execute_result",
          "data": {
            "text/plain": [
              "<matplotlib.image.AxesImage at 0x7f065ef70c10>"
            ]
          },
          "metadata": {},
          "execution_count": 70
        },
        {
          "output_type": "display_data",
          "data": {
            "text/plain": [
              "<Figure size 432x288 with 1 Axes>"
            ],
            "image/png": "[encoded data removed]"
          },
          "metadata": {}
        }
      ]
    },
    {
      "cell_type": "code",
      "source": [
        "plt.style.use('seaborn-dark')\n",
        "plt.figure(figsize=(7,7))\n",
        "ax = plt.axes()\n",
        "ax.set_facecolor(\"black\")\n",
        "plt.plot(x, y,\n",
        "         color='white',\n",
        "         marker='o',\n",
        "         linewidth=3,\n",
        "         markersize=50)"
      ],
      "metadata": {
        "id": "RtRIQ8jxyIi_",
        "colab": {
          "base_uri": "https://localhost:8080/",
          "height": 442
        },
        "outputId": "8c2434b3-ff19-4800-ec39-329c404371b5"
      },
      "execution_count": 71,
      "outputs": [
        {
          "output_type": "execute_result",
          "data": {
            "text/plain": [
              "[<matplotlib.lines.Line2D at 0x7f065f9b3d90>]"
            ]
          },
          "metadata": {},
          "execution_count": 71
        },
        {
          "output_type": "display_data",
          "data": {
            "text/plain": [
              "<Figure size 504x504 with 1 Axes>"
            ],
            "image/png": "[encoded data removed]"
          },
          "metadata": {}
        }
      ]
    },
    {
      "cell_type": "code",
      "source": [],
      "metadata": {
        "id": "QfCMrRXVBtwQ"
      },
      "execution_count": null,
      "outputs": []
    },
    {
      "cell_type": "code",
      "source": [],
      "metadata": {
        "id": "p240CWlQEAgr"
      },
      "execution_count": null,
      "outputs": []
    }
  ]
}